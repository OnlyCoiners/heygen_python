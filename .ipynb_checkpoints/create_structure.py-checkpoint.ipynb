{
 "cells": [
  {
   "cell_type": "code",
   "execution_count": 8,
   "id": "ba83ac76-0032-4af1-ace0-3e8e55d9130e",
   "metadata": {},
   "outputs": [
    {
     "name": "stdout",
     "output_type": "stream",
     "text": [
      "Estrutura do projeto 'heygen_python_sdk' criada com sucesso!\n"
     ]
    }
   ],
   "source": [
    "import os\n",
    "\n",
    "# Definindo a estrutura do projeto\n",
    "structure = { \n",
    "        \"heygen\": {\n",
    "            \"__init__.py\": \"\",\n",
    "            \"bot.py\": \"\",\n",
    "            \"schemas\": {\n",
    "                \"__init__.py\": \"\",\n",
    "                \"video.py\": \"\",\n",
    "                \"webhook.py\": \"\"\n",
    "            },\n",
    "            \"utils.py\": \"\"\n",
    "        },\n",
    "        \"tests\": {\n",
    "            \"__init__.py\": \"\",\n",
    "            \"test_bot.py\": \"\",\n",
    "            \"test_schemas.py\": \"\"\n",
    "        },\n",
    "        \".gitignore\": \"\",\n",
    "        \"LICENSE\": \"\",\n",
    "        \"README.md\": \"\",\n",
    "        \"setup.py\": \"\",\n",
    "        \"requirements.txt\": \"\"\n",
    "    }\n",
    "\n",
    "\n",
    "# Função para criar a estrutura de diretórios e arquivos vazios\n",
    "def create_structure(base_path, structure):\n",
    "    for name, value in structure.items():\n",
    "        path = os.path.join(base_path, name)\n",
    "        if isinstance(value, dict):\n",
    "            os.makedirs(path, exist_ok=True)\n",
    "            create_structure(path, value)\n",
    "        else:\n",
    "            with open(path, \"w\") as file:\n",
    "                pass  # Apenas cria o arquivo vazio\n",
    "\n",
    "\n",
    "# Criar a estrutura\n",
    "os.makedirs(base_path, exist_ok=True)\n",
    "create_structure(base_path, structure)\n",
    "\n",
    "print(f\"Estrutura do projeto '{base_path}' criada com sucesso!\")\n"
   ]
  },
  {
   "cell_type": "code",
   "execution_count": null,
   "id": "b70d8f47-64cb-461d-bacc-7c67a26e4a3d",
   "metadata": {},
   "outputs": [],
   "source": []
  }
 ],
 "metadata": {
  "kernelspec": {
   "display_name": "Python 3 (ipykernel)",
   "language": "python",
   "name": "python3"
  },
  "language_info": {
   "codemirror_mode": {
    "name": "ipython",
    "version": 3
   },
   "file_extension": ".py",
   "mimetype": "text/x-python",
   "name": "python",
   "nbconvert_exporter": "python",
   "pygments_lexer": "ipython3",
   "version": "3.12.4"
  }
 },
 "nbformat": 4,
 "nbformat_minor": 5
}
